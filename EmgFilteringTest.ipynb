{
 "cells": [
  {
   "cell_type": "code",
   "execution_count": 37,
   "metadata": {},
   "outputs": [
    {
     "data": {
      "image/png": "[encoded data removed]",
      "text/plain": [
       "<Figure size 432x288 with 1 Axes>"
      ]
     },
     "metadata": {
      "needs_background": "light"
     },
     "output_type": "display_data"
    },
    {
     "name": "stdout",
     "output_type": "stream",
     "text": [
      "Balance after 30 years: $1,242,232.30\n"
     ]
    }
   ],
   "source": [
    "import numpy as np\n",
    "import matplotlib.pyplot as plt\n",
    "%matplotlib inline\n",
    "\n",
    "nYears = 30\n",
    "monthsPerYear = 12\n",
    "\n",
    "r = 0.10            # interest rate\n",
    "Ps = 0              # starting principle\n",
    "Pa = 545           # additional monthly principle\n",
    "\n",
    "p = np.array([Ps])\n",
    "for i in range(0, int(monthsPerYear*nYears)):\n",
    "    Pm = (p[-1]+Pa)*(1+r/monthsPerYear)  # new calced principle\n",
    "    p = np.append(p, Pm)                 # append to principle array\n",
    "\n",
    "\n",
    "t = np.arange(0, p.shape[0])/monthsPerYear\n",
    "\n",
    "plt.plot(t, p)\n",
    "plt.show()\n",
    "\n",
    "print(\"Balance after {} years: ${:,.2f}\".format(nYears, p[-1]))"
   ]
  },
  {
   "cell_type": "code",
   "execution_count": 42,
   "metadata": {},
   "outputs": [
    {
     "name": "stdout",
     "output_type": "stream",
     "text": [
      "1\n",
      "1\n"
     ]
    }
   ],
   "source": [
    "d = {'a': {'blah1': 1, 'blah2': 2, 'blah3': 3},\n",
    "     'b': {'blah1': 1, 'blah2': 2, 'blah3': 3}}\n",
    "\n",
    "for key in d:\n",
    "    print(d[key]['blah1'])"
   ]
  },
  {
   "cell_type": "code",
   "execution_count": 48,
   "metadata": {},
   "outputs": [
    {
     "name": "stdout",
     "output_type": "stream",
     "text": [
      "0 0 0\n",
      "1 0 1\n",
      "2 1 0\n",
      "3 1 1\n",
      "4 2 0\n",
      "5 2 1\n",
      "6 3 0\n",
      "7 3 1\n"
     ]
    }
   ],
   "source": [
    "for a in range(0, 8):\n",
    "    print(a, (int(int(a) / 2)), int(a) % 2 )"
   ]
  },
  {
   "cell_type": "code",
   "execution_count": 53,
   "metadata": {},
   "outputs": [
    {
     "data": {
      "image/png": "[encoded data removed]",
      "text/plain": [
       "<Figure size 432x288 with 1 Axes>"
      ]
     },
     "metadata": {
      "needs_background": "light"
     },
     "output_type": "display_data"
    }
   ],
   "source": [
    "import os\n",
    "import numpy as np\n",
    "path = \"/home/tannerbitz/Downloads/Yeonhun_EMG_Filtering\"\n",
    "os.chdir(path)\n",
    "\n",
    "data = np.loadtxt('x1emg.txt')\n",
    "plt.plot(data[:,0], data[:,1])\n",
    "plt.show()"
   ]
  },
  {
   "cell_type": "code",
   "execution_count": 75,
   "metadata": {
    "scrolled": true
   },
   "outputs": [
    {
     "name": "stdout",
     "output_type": "stream",
     "text": [
      "[[0. 1. 2. 3. 4.]\n",
      " [0. 1. 2. 3. 4.]\n",
      " [0. 1. 2. 3. 4.]]\n",
      "[2. 2. 2.]\n"
     ]
    }
   ],
   "source": [
    "import numpy as np\n",
    "n = 5\n",
    "a = np.arange(0,n) * np.ones((3,n))\n",
    "\n",
    "print(a)\n",
    "print(np.mean(a, axis=1))"
   ]
  },
  {
   "cell_type": "code",
   "execution_count": 65,
   "metadata": {},
   "outputs": [
    {
     "name": "stdout",
     "output_type": "stream",
     "text": [
      "[[-1.24609394 -2.22993674 -0.55139318 -0.07936771 -1.3483591 ]\n",
      " [-0.34556508 -1.56994842  0.66512381  0.77405697  0.53992735]\n",
      " [-0.9866183  -0.73340458  1.94528176 -0.40077303  2.96066424]\n",
      " [-0.5015989   0.07703847 -0.10147341 -0.12284447 -0.95971975]\n",
      " [ 0.85606418  1.83971875 -1.39728243  0.20844977  1.02728296]]\n",
      "[[1.24609394 2.22993674 0.55139318 0.07936771 1.3483591 ]\n",
      " [0.34556508 1.56994842 0.66512381 0.77405697 0.53992735]\n",
      " [0.9866183  0.73340458 1.94528176 0.40077303 2.96066424]\n",
      " [0.5015989  0.07703847 0.10147341 0.12284447 0.95971975]\n",
      " [0.85606418 1.83971875 1.39728243 0.20844977 1.02728296]]\n"
     ]
    }
   ],
   "source": [
    "a = np.random.normal(loc=0.0, scale=1, size=(n,n))\n",
    "\n",
    "print(a)\n",
    "print(np.abs(a))"
   ]
  },
  {
   "cell_type": "code",
   "execution_count": 74,
   "metadata": {},
   "outputs": [
    {
     "name": "stdout",
     "output_type": "stream",
     "text": [
      "Time for ops\n",
      "Avg: 1.679372787475586e-05\n",
      "Std: 7.385344651916904e-06\n",
      "Most: 0.00017213821411132812\n",
      "nOps in 1 cycle: 29.773020244754253\n",
      "Worse Case nOps in 1 cycle: 2.9046426592797783\n"
     ]
    }
   ],
   "source": [
    "import time\n",
    "\n",
    "a = np.zeros((16, 1000))\n",
    "b = np.ones(16)\n",
    "nRows, nCols = a.shape\n",
    "\n",
    "t = []\n",
    "for iCol in range(0, nCols):\n",
    "    t1 = time.time()\n",
    "    a[:,1:] = a[:,0:-1]\n",
    "    a[:,0]  = b\n",
    "    t.append(time.time()-t1)\n",
    "    \n",
    "print(\"Time for ops\")\n",
    "print(\"Avg: {}\".format(np.mean(t)))\n",
    "print(\"Std: {}\".format(np.std(t)))\n",
    "print(\"Most: {}\".format(np.max(t)))\n",
    "print(\"nOps in 1 cycle: {}\".format((1/2000)/np.mean(t)))\n",
    "print(\"Worse Case nOps in 1 cycle: {}\".format((1/2000)/np.max(t)))"
   ]
  },
  {
   "cell_type": "code",
   "execution_count": 113,
   "metadata": {},
   "outputs": [],
   "source": [
    "import os\n",
    "import numpy as np\n",
    "import time\n",
    "from scipy import signal\n",
    "path = \"/home/tannerbitz/Downloads/Yeonhun_EMG_Filtering\"\n",
    "os.chdir(path)\n",
    "\n",
    "# high pass butterworth filter\n",
    "Fs = 2000\n",
    "n = 5\n",
    "cutoff = 500\n",
    "Fn = Fs/2\n",
    "b,a = signal.butter(n, cutoff/Fn, 'high')\n",
    "nCoeffs = len(a)\n",
    "\n",
    "# load data\n",
    "data = np.loadtxt('x1emg.txt')\n",
    "y = data[:,1]\n",
    "data = y*np.ones((16,len(y)))\n",
    "\n",
    "# init data arrays\n",
    "nReadingsPerSample = 16\n",
    "dataLength = data.shape[1]\n",
    "data_raw = np.zeros((nReadingsPerSample, dataLength))   # raw data\n",
    "data_hpf = np.zeros((nReadingsPerSample, dataLength))   # data after its been high pass filtered\n",
    "data_ma  = np.zeros((nReadingsPerSample, dataLength))   # 1/2 second moving avg of abs(_data_hpf)\n",
    "data_ma_nohpf = np.zeros((nReadingsPerSample, dataLength))\n",
    "\n",
    "\n",
    "def ApplyFilter(data_new):\n",
    "\n",
    "    global data_raw, data_hpf, data_ma, data_ma_nohpf\n",
    "    \n",
    "    nReadings, nSamples = data_new.shape\n",
    "    for iSample in range(0, nSamples):\n",
    "        # shift data\n",
    "        data_raw[:,1:] = data_raw[:,0:-1]\n",
    "        data_hpf[:,1:] = data_hpf[:,0:-1]\n",
    "        data_ma[:,1:]  = data_ma[:,0:-1]\n",
    "        data_ma_nohpf[:,1:] = data_ma[:, 0:-1]\n",
    "\n",
    "        # insert new data into _data_raw, then apply high pass filter\n",
    "        data_raw[:,0] = data_new[:,iSample]\n",
    "        data_hpf[:,0] = ( data_raw[:,0:nCoeffs].dot(b) -\n",
    "                          data_hpf[:,1:nCoeffs].dot(a[1:]) )/a[0]\n",
    "        data_ma[:,0] = np.mean(np.abs(data_hpf[:,0:int(Fs/6)]), axis=1)\n",
    "        data_ma_nohpf[:,0] = np.mean(np.abs(data_raw[:,0:int(Fs/6)]), axis=1)\n",
    "\n",
    "        \n",
    "# time ApplyFilter\n",
    "t = []\n",
    "nRows, nCols = data.shape\n",
    "for iCol in range(0, nCols):\n",
    "    t1 = time.time()\n",
    "    ApplyFilter(np.reshape(data[:,iCol], (16,1)))\n",
    "    t.append(time.time() - t1)\n",
    "\n"
   ]
  },
  {
   "cell_type": "code",
   "execution_count": 89,
   "metadata": {},
   "outputs": [
    {
     "data": {
      "text/plain": [
       "0.0005131966271236509"
      ]
     },
     "execution_count": 89,
     "metadata": {},
     "output_type": "execute_result"
    }
   ],
   "source": [
    "np.mean(t)"
   ]
  },
  {
   "cell_type": "code",
   "execution_count": 114,
   "metadata": {},
   "outputs": [
    {
     "data": {
      "image/png": "[encoded data removed]",
      "text/plain": [
       "<Figure size 720x720 with 1 Axes>"
      ]
     },
     "metadata": {
      "needs_background": "light"
     },
     "output_type": "display_data"
    }
   ],
   "source": [
    "import matplotlib.pyplot as plt\n",
    "fig=plt.figure(figsize=(10,10))\n",
    "plt.plot(np.flip(data_raw[0,:]), label='raw')\n",
    "plt.plot(np.flip(data_hpf[0,:]), label='hpf')\n",
    "plt.plot(np.flip(np.abs(data_hpf[0,:])), label='hpf_abs')\n",
    "plt.plot(np.flip(data_ma[0,:]), label='ma')\n",
    "plt.plot(np.flip(data_ma_nohpf[0,:]), label='ma_nohpf')\n",
    "plt.legend()\n",
    "plt.show()"
   ]
  },
  {
   "cell_type": "code",
   "execution_count": 17,
   "metadata": {},
   "outputs": [
    {
     "name": "stdout",
     "output_type": "stream",
     "text": [
      "0.0018427371978759766\n",
      "0.016666666666666666\n"
     ]
    }
   ],
   "source": [
    "from collections import deque\n",
    "import numpy as np\n",
    "import time\n",
    "\n",
    "\n",
    "q = deque([], 5000)\n",
    "t = []\n",
    "for i in range(0, 10000):\n",
    "    a = np.ones(16)*i\n",
    "    t1 = time.time()\n",
    "    q.append(a)\n",
    "    t.append(time.time() - t1)\n",
    "\n",
    "t1 = time.time()\n",
    "b = np.array(q)\n",
    "print(time.time() - t1)\n",
    "print(1/60)"
   ]
  },
  {
   "cell_type": "code",
   "execution_count": 19,
   "metadata": {},
   "outputs": [
    {
     "name": "stdout",
     "output_type": "stream",
     "text": [
      "max: 3.266334533691406e-05\n",
      "mean: 6.942987442016602e-07\n"
     ]
    }
   ],
   "source": [
    "print(\"max: {}\".format(np.max(t)))\n",
    "print(\"mean: {}\".format(np.mean(t)))"
   ]
  },
  {
   "cell_type": "code",
   "execution_count": 22,
   "metadata": {},
   "outputs": [
    {
     "name": "stdout",
     "output_type": "stream",
     "text": [
      "deque([array([0., 0., 0., ..., 0., 0., 0.]), array([0., 0., 0., ..., 0., 0., 0.]), array([0., 0., 0., ..., 0., 0., 0.]), array([0., 0., 0., ..., 0., 0., 0.]), array([0., 0., 0., ..., 0., 0., 0.]), array([0., 0., 0., ..., 0., 0., 0.]), array([0., 0., 0., ..., 0., 0., 0.]), array([0., 0., 0., ..., 0., 0., 0.]), array([0., 0., 0., ..., 0., 0., 0.]), array([0., 0., 0., ..., 0., 0., 0.]), array([0., 0., 0., ..., 0., 0., 0.]), array([0., 0., 0., ..., 0., 0., 0.]), array([0., 0., 0., ..., 0., 0., 0.]), array([0., 0., 0., ..., 0., 0., 0.]), array([0., 0., 0., ..., 0., 0., 0.]), array([0., 0., 0., ..., 0., 0., 0.]), array([1., 1., 1., 1., 1., 1., 1., 1., 1., 1., 1., 1., 1., 1., 1., 1.])], maxlen=5000)\n"
     ]
    }
   ],
   "source": [
    "a = np.zeros((16,5000))\n",
    "# a = a.tolist()\n",
    "q = deque(a, 5000)\n",
    "q.append(np.ones(16))\n",
    "print(q)"
   ]
  },
  {
   "cell_type": "code",
   "execution_count": 25,
   "metadata": {},
   "outputs": [
    {
     "data": {
      "text/plain": [
       "array([[1., 0., 0., 0.],\n",
       "       [0., 0., 1., 0.],\n",
       "       [0., 0., 0., 1.]])"
      ]
     },
     "execution_count": 25,
     "metadata": {},
     "output_type": "execute_result"
    }
   ],
   "source": [
    "a = np.identity(4)\n",
    "a[[0,2,3],:]"
   ]
  },
  {
   "cell_type": "code",
   "execution_count": 30,
   "metadata": {},
   "outputs": [
    {
     "name": "stdout",
     "output_type": "stream",
     "text": [
      "[[ 0  0  0  0  0]\n",
      " [ 0  1  2  3  4]\n",
      " [ 0  2  4  6  8]\n",
      " [ 0  3  6  9 12]\n",
      " [ 0  4  8 12 16]]\n",
      "[[ 0  0  0]\n",
      " [ 0  4  8]\n",
      " [ 0  8 16]]\n"
     ]
    }
   ],
   "source": [
    "a = np.reshape(np.arange(0,5), (5,1))\n",
    "b = a * a.T\n",
    "print(b)\n",
    "print(b[0::2,0::2])"
   ]
  },
  {
   "cell_type": "code",
   "execution_count": null,
   "metadata": {},
   "outputs": [],
   "source": []
  }
 ],
 "metadata": {
  "kernelspec": {
   "display_name": "Python 3",
   "language": "python",
   "name": "python3"
  },
  "language_info": {
   "codemirror_mode": {
    "name": "ipython",
    "version": 3
   },
   "file_extension": ".py",
   "mimetype": "text/x-python",
   "name": "python",
   "nbconvert_exporter": "python",
   "pygments_lexer": "ipython3",
   "version": "3.6.7"
  }
 },
 "nbformat": 4,
 "nbformat_minor": 2
}
